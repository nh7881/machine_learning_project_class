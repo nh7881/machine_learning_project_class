{
 "cells": [
  {
   "cell_type": "code",
   "execution_count": 4,
   "metadata": {},
   "outputs": [],
   "source": [
    "import numpy as np\n",
    "import matplotlib.pyplot as plt\n",
    "import pandas as pd\n",
    "\n",
    "data = np.loadtxt('data-pca.txt', delimiter=',')\n",
    "\n",
    "x = data[:,0]\n",
    "y = data[:,1]"
   ]
  },
  {
   "cell_type": "code",
   "execution_count": 8,
   "metadata": {},
   "outputs": [
    {
     "data": {
      "text/plain": [
       "<matplotlib.collections.PathCollection at 0x250e448af40>"
      ]
     },
     "execution_count": 8,
     "metadata": {},
     "output_type": "execute_result"
    },
    {
     "data": {
      "image/png": "[encoded data removed]",
      "text/plain": [
       "<Figure size 504x504 with 1 Axes>"
      ]
     },
     "metadata": {
      "needs_background": "light"
     },
     "output_type": "display_data"
    }
   ],
   "source": [
    "plt.figure(figsize=(7,7))\n",
    "plt.title('original data points')\n",
    "plt.scatter(x,y, c='red', s=70, marker='+')"
   ]
  },
  {
   "cell_type": "code",
   "execution_count": 18,
   "metadata": {},
   "outputs": [],
   "source": [
    "def normalize_data(x, y):\n",
    "\n",
    "    nomalized_x = (x - np.mean(x)) / np.std(x)\n",
    "    nomalized_y= (y - np.mean(y)) / np.std(y)\n",
    "\n",
    "    return nomalized_x, nomalized_y\n",
    "nomalized_x, nomalized_y = normalize_data(x,y)"
   ]
  },
  {
   "cell_type": "code",
   "execution_count": 19,
   "metadata": {},
   "outputs": [
    {
     "data": {
      "text/plain": [
       "<matplotlib.collections.PathCollection at 0x250e58fdb50>"
      ]
     },
     "execution_count": 19,
     "metadata": {},
     "output_type": "execute_result"
    },
    {
     "data": {
      "image/png": "[encoded data removed]",
      "text/plain": [
       "<Figure size 504x504 with 1 Axes>"
      ]
     },
     "metadata": {
      "needs_background": "light"
     },
     "output_type": "display_data"
    }
   ],
   "source": [
    "plt.figure(figsize=(7,7))\n",
    "plt.title('data nomalized by z-scoring')\n",
    "plt.scatter(nomalized_x,nomalized_y, c='red', marker='+')"
   ]
  },
  {
   "cell_type": "code",
   "execution_count": 78,
   "metadata": {},
   "outputs": [
    {
     "data": {
      "text/plain": [
       "array([[1.     , 0.73553],\n",
       "       [0.73553, 1.     ]])"
      ]
     },
     "execution_count": 78,
     "metadata": {},
     "output_type": "execute_result"
    }
   ],
   "source": [
    "def compute_covariance(x, y):\n",
    "    n = x.shape[0]\n",
    "    z = np.concatenate([x[:, None],y[:, None]],axis=1)\n",
    "    covar = z.T.dot(z)/n   \n",
    "    return covar\n",
    "covar = compute_covariance(nomalized_x, nomalized_y)\n",
    "covar"
   ]
  },
  {
   "cell_type": "code",
   "execution_count": 148,
   "metadata": {},
   "outputs": [
    {
     "name": "stdout",
     "output_type": "stream",
     "text": [
      "[1.73553 0.26447]\n"
     ]
    },
    {
     "data": {
      "text/plain": [
       "array([[ 1.22720503, -0.18700853],\n",
       "       [ 1.22720503,  0.18700853]])"
      ]
     },
     "execution_count": 148,
     "metadata": {},
     "output_type": "execute_result"
    }
   ],
   "source": [
    "def compute_principal_direction(covariance):\n",
    "\n",
    "    eig_val, eig_vec = np.linalg.eig(covar)\n",
    "    direction = eig_vec * eig_val\n",
    "    return direction\n",
    "\n",
    "direction = compute_principal_direction(covar)\n",
    "direction"
   ]
  },
  {
   "cell_type": "code",
   "execution_count": 143,
   "metadata": {},
   "outputs": [
    {
     "data": {
      "text/plain": [
       "<matplotlib.patches.FancyArrow at 0x250e95749a0>"
      ]
     },
     "execution_count": 143,
     "metadata": {},
     "output_type": "execute_result"
    },
    {
     "data": {
      "image/png": "[encoded data removed]",
      "text/plain": [
       "<Figure size 504x504 with 1 Axes>"
      ]
     },
     "metadata": {
      "needs_background": "light"
     },
     "output_type": "display_data"
    }
   ],
   "source": [
    "plt.figure(figsize=(7,7))\n",
    "plt.title('principal_directions')\n",
    "plt.scatter(nomalized_x,nomalized_y, c='red', marker='+')\n",
    "# 벡터의 크기가 더 큰 게 첫번째?\n",
    "direction1 = direction[:,0]\n",
    "direction2 = direction[:,1]\n",
    "plt.arrow(0,0,direction1[0], direction1[1], length_includes_head=True, head_width=0.08,ec ='blue')\n",
    "plt.arrow(0,0,direction2[0], direction2[1], length_includes_head=True, head_width=0.08,ec ='green')"
   ]
  },
  {
   "cell_type": "code",
   "execution_count": 145,
   "metadata": {},
   "outputs": [],
   "source": [
    "def compute_projection(point, axis):\n",
    "\n",
    "    projection = np.dot(point, axis) / np.dot(axis, axis) * axis\n",
    "    \n",
    "    return projection"
   ]
  },
  {
   "cell_type": "code",
   "execution_count": 147,
   "metadata": {},
   "outputs": [],
   "source": [
    "def compute_distance(point1, point2):\n",
    "\n",
    "    distance = np.power(np.sum(np.power(point1 - point2,2),axis=1),0.5)\n",
    "\n",
    "    return distance"
   ]
  },
  {
   "cell_type": "code",
   "execution_count": 155,
   "metadata": {},
   "outputs": [],
   "source": [
    "z = np.concatenate([x[:, None],y[:, None]],axis=1)\n",
    "proj_z = []\n",
    "for point in z :\n",
    "    proj_z.append(compute_projection(point, direction1))\n",
    "proj_z = np.array(proj_z)"
   ]
  },
  {
   "cell_type": "code",
   "execution_count": 157,
   "metadata": {},
   "outputs": [
    {
     "data": {
      "text/plain": [
       "array([[3.385335, 3.385335],\n",
       "       [5.19103 , 5.19103 ],\n",
       "       [3.533835, 3.533835],\n",
       "       [3.24032 , 3.24032 ],\n",
       "       [3.511035, 3.511035],\n",
       "       [5.189525, 5.189525],\n",
       "       [3.55433 , 3.55433 ],\n",
       "       [6.296035, 6.296035],\n",
       "       [4.51367 , 4.51367 ],\n",
       "       [5.09257 , 5.09257 ],\n",
       "       [4.98586 , 4.98586 ],\n",
       "       [4.91645 , 4.91645 ],\n",
       "       [4.57319 , 4.57319 ],\n",
       "       [4.95279 , 4.95279 ],\n",
       "       [3.30193 , 3.30193 ],\n",
       "       [5.97369 , 5.97369 ],\n",
       "       [5.175785, 5.175785],\n",
       "       [3.738485, 3.738485],\n",
       "       [6.23668 , 6.23668 ],\n",
       "       [4.914535, 4.914535],\n",
       "       [6.194185, 6.194185],\n",
       "       [4.19123 , 4.19123 ],\n",
       "       [5.87991 , 5.87991 ],\n",
       "       [4.47645 , 4.47645 ],\n",
       "       [3.210505, 3.210505],\n",
       "       [4.083195, 4.083195],\n",
       "       [5.442255, 5.442255],\n",
       "       [5.450675, 5.450675],\n",
       "       [3.817905, 3.817905],\n",
       "       [4.494595, 4.494595],\n",
       "       [4.61812 , 4.61812 ],\n",
       "       [5.700575, 5.700575],\n",
       "       [3.48051 , 3.48051 ],\n",
       "       [5.006125, 5.006125],\n",
       "       [3.970405, 3.970405],\n",
       "       [5.515515, 5.515515],\n",
       "       [3.20336 , 3.20336 ],\n",
       "       [5.58988 , 5.58988 ],\n",
       "       [2.52232 , 2.52232 ],\n",
       "       [4.716805, 4.716805],\n",
       "       [5.22332 , 5.22332 ],\n",
       "       [3.80808 , 3.80808 ],\n",
       "       [3.506165, 3.506165],\n",
       "       [5.24457 , 5.24457 ],\n",
       "       [3.13202 , 3.13202 ],\n",
       "       [4.68975 , 4.68975 ],\n",
       "       [2.02946 , 2.02946 ],\n",
       "       [3.495015, 3.495015],\n",
       "       [4.23029 , 4.23029 ],\n",
       "       [5.60151 , 5.60151 ]])"
      ]
     },
     "execution_count": 157,
     "metadata": {},
     "output_type": "execute_result"
    }
   ],
   "source": [
    "proj_z"
   ]
  },
  {
   "cell_type": "code",
   "execution_count": 160,
   "metadata": {},
   "outputs": [],
   "source": [
    "line = [[nomalized_x.min()-0.5,nomalized_x.max()+0.5],[nomalized_y.min()-0.5,nomalized_y.max()+0.5]]"
   ]
  },
  {
   "cell_type": "code",
   "execution_count": 161,
   "metadata": {},
   "outputs": [
    {
     "data": {
      "text/plain": [
       "[<matplotlib.lines.Line2D at 0x250eacd3340>]"
      ]
     },
     "execution_count": 161,
     "metadata": {},
     "output_type": "execute_result"
    },
    {
     "data": {
      "image/png": "[encoded data removed]",
      "text/plain": [
       "<Figure size 504x504 with 1 Axes>"
      ]
     },
     "metadata": {
      "needs_background": "light"
     },
     "output_type": "display_data"
    }
   ],
   "source": [
    "plt.figure(figsize=(7,7))\n",
    "plt.title('principal_directions')\n",
    "plt.scatter(nomalized_x,nomalized_y, c='red', marker='+')\n",
    "plt.plot(line[0],line[1])"
   ]
  }
 ],
 "metadata": {
  "kernelspec": {
   "display_name": "Python 3",
   "language": "python",
   "name": "python3"
  },
  "language_info": {
   "codemirror_mode": {
    "name": "ipython",
    "version": 3
   },
   "file_extension": ".py",
   "mimetype": "text/x-python",
   "name": "python",
   "nbconvert_exporter": "python",
   "pygments_lexer": "ipython3",
   "version": "3.8.3"
  }
 },
 "nbformat": 4,
 "nbformat_minor": 4
}
