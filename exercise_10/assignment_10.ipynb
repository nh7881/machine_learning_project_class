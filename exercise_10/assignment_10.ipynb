{
  "nbformat": 4,
  "nbformat_minor": 0,
  "metadata": {
    "colab": {
      "name": "assignment_10.ipynb",
      "provenance": [],
      "collapsed_sections": [],
      "authorship_tag": "ABX9TyOLr/zlkVn9oHmuUxVD0Tri",
      "include_colab_link": true
    },
    "kernelspec": {
      "name": "python3",
      "display_name": "Python 3"
    }
  },
  "cells": [
    {
      "cell_type": "markdown",
      "metadata": {
        "id": "view-in-github",
        "colab_type": "text"
      },
      "source": [
        "<a href=\"https://colab.research.google.com/github/nh7881/machine_learning_project_class/blob/master/exercise_10/assignment_10.ipynb\" target=\"_parent\"><img src=\"https://colab.research.google.com/assets/colab-badge.svg\" alt=\"Open In Colab\"/></a>"
      ]
    },
    {
      "cell_type": "code",
      "metadata": {
        "id": "eFlnw0njY-Z2"
      },
      "source": [
        "import torch\n",
        "from torch import nn\n",
        "from torchvision import transforms, datasets\n",
        "from matplotlib import pyplot as plt\n",
        "import numpy as np"
      ],
      "execution_count": 18,
      "outputs": []
    },
    {
      "cell_type": "code",
      "metadata": {
        "id": "E4o-wcNbbUcf"
      },
      "source": [
        "transform = transforms.Compose([\n",
        "    transforms.ToTensor(),\n",
        "    transforms.Normalize((0.1307,),(0.3081,)),  # mean value = 0.1307, standard deviation value = 0.3081\n",
        "])"
      ],
      "execution_count": 32,
      "outputs": []
    },
    {
      "cell_type": "code",
      "metadata": {
        "id": "v8AuT_FfbYW7"
      },
      "source": [
        "data_path = './MNIST'\n",
        "minibatch_size=8\n",
        "\n",
        "training_set = datasets.MNIST(root = data_path, train= False, download=True, transform= transform)\n",
        "testing_set = datasets.MNIST(root = data_path, train= True, download=True, transform= transform)\n",
        "training_loader = torch.utils.data.DataLoader(training_set,minibatch_size)\n",
        "testing_loader = torch.utils.data.DataLoader(testing_set,minibatch_size)"
      ],
      "execution_count": 33,
      "outputs": []
    },
    {
      "cell_type": "code",
      "metadata": {
        "colab": {
          "base_uri": "https://localhost:8080/"
        },
        "id": "Ehu9i_-hbvLU",
        "outputId": "b224f165-50ee-4d5a-bf2b-6fd36b7be19c"
      },
      "source": [
        "print(training_loader.dataset.data.shape)\n",
        "print(testing_loader.dataset.data.shape)"
      ],
      "execution_count": 34,
      "outputs": [
        {
          "output_type": "stream",
          "text": [
            "torch.Size([10000, 28, 28])\n",
            "torch.Size([60000, 28, 28])\n"
          ],
          "name": "stdout"
        }
      ]
    },
    {
      "cell_type": "code",
      "metadata": {
        "id": "FMZvU1iDbvpD"
      },
      "source": [
        "class classification(nn.Module):\n",
        "    def __init__(self):\n",
        "        super(classification, self).__init__()\n",
        "        \n",
        "        # construct layers for a neural network\n",
        "        self.classifier1 = nn.Sequential(\n",
        "            nn.Linear(in_features=28*28, out_features=20*20),\n",
        "            nn.ReLU(),\n",
        "            nn.Dropout2d(0.2),\n",
        "        ) \n",
        "        self.classifier2 = nn.Sequential(\n",
        "            nn.Linear(in_features=20*20, out_features=10*10),\n",
        "            nn.ReLU(),\n",
        "            nn.Dropout2d(0.2),\n",
        "        ) \n",
        "        self.classifier3 = nn.Sequential(\n",
        "            nn.Linear(in_features=10*10, out_features=10),\n",
        "            nn.LogSoftmax(dim=1),\n",
        "        ) \n",
        "        \n",
        "        \n",
        "    def forward(self, inputs):                 # [batchSize, 1, 28, 28]\n",
        "        x = inputs.view(inputs.size(0), -1)    # [batchSize, 28*28]\n",
        "        x = self.classifier1(x)                # [batchSize, 20*20]\n",
        "        x = self.classifier2(x)                # [batchSize, 10*10]\n",
        "        out = self.classifier3(x)              # [batchSize, 10]\n",
        "        \n",
        "        return out\n"
      ],
      "execution_count": 35,
      "outputs": []
    },
    {
      "cell_type": "code",
      "metadata": {
        "id": "ppBNwEV6cpE6"
      },
      "source": [
        "criterion = nn.NLLLoss()"
      ],
      "execution_count": 36,
      "outputs": []
    },
    {
      "cell_type": "code",
      "metadata": {
        "id": "DChy4rNcczBe"
      },
      "source": [
        "learning_rate_value = 0.01\n",
        "device = torch.device(\"cuda:0\" if torch.cuda.is_available() else \"cpu\")\n",
        "classifier = classification().to(device)\n",
        "optimizer = torch.optim.SGD(classifier.parameters(), lr=learning_rate_value, momentum=0.9)\n",
        "#scheduler = torch.optim.lr_scheduler.StepLR(optimizer, step_size=3, gamma=0.9)"
      ],
      "execution_count": 37,
      "outputs": []
    },
    {
      "cell_type": "code",
      "metadata": {
        "id": "JxbWrFsBc0hk"
      },
      "source": [
        "test_losses = []\n",
        "test_accuracies = []\n",
        "def test() :\n",
        "    classifier.eval()\n",
        "    correct = 0\n",
        "    n = 0\n",
        "    with torch.no_grad():\n",
        "        for batch_idx, (data, target) in enumerate(testing_loader):\n",
        "            data, target = data.to(device), target.to(device)\n",
        "            output = classifier(data)\n",
        "            loss = criterion(output, target)\n",
        "            pred = output.argmax(dim=1, keepdim=True)\n",
        "            correct += pred.eq(target.view_as(pred)).sum().item()\n",
        "            n += len(data)\n",
        "        print('Test Loss: {:.6f} Correct: {}, ACC : {}'.format(\n",
        "            loss.item(), correct, correct/n))\n",
        "        test_losses.append(loss.item())\n",
        "        test_accuracies.append(correct/n)"
      ],
      "execution_count": 38,
      "outputs": []
    },
    {
      "cell_type": "code",
      "metadata": {
        "colab": {
          "base_uri": "https://localhost:8080/"
        },
        "id": "uPx5vcFsdKQ8",
        "outputId": "1406fe8e-a75a-4ffa-aa2c-7a1c7cfd28e4"
      },
      "source": [
        "epoch_num = 30\n",
        "losses = []\n",
        "accuracies = []\n",
        "for epoch in range(epoch_num) :\n",
        "    correct = 0\n",
        "    n = 0\n",
        "    classifier.train()\n",
        "    #scheduler.step()\n",
        "    for batch_idx, (data, target) in enumerate(training_loader):\n",
        "        data, target = data.to(device), target.to(device)\n",
        "        optimizer.zero_grad()\n",
        "        output = classifier(data)\n",
        "        loss = criterion(output, target)\n",
        "        loss.backward()\n",
        "        optimizer.step()\n",
        "        pred = output.argmax(dim=1, keepdim=True)\n",
        "        correct += pred.eq(target.view_as(pred)).sum().item()\n",
        "        n += len(data)\n",
        "    print('Train Epoch: {} Loss: {:.6f} Correct: {} ACC: {}'.format(\n",
        "        epoch, loss.item(), correct, correct/n))\n",
        "    test()\n",
        "    losses.append(loss.item())\n",
        "    accuracies.append(correct/n)\n",
        "    #train  test    batch_size  loss    activ\n",
        "    #94.7,  91.95   16          ce      sigmoid\n",
        "    #?      93.7    64          ce      sigmoid\n",
        "    #97     92.8    64          nll     sigmoid\n",
        "    #100    94.9    16          nll     sigmoid\n",
        "    #100    95.5    64          nll     relu\n",
        "    #99.9   95.9    64          nll     relu    dropout추가\n",
        "    #99.9   95.9    8           nll     relu    dropout추가"
      ],
      "execution_count": 39,
      "outputs": [
        {
          "output_type": "stream",
          "text": [
            "Train Epoch: 0 Loss: 0.032784 Correct: 8308 ACC: 0.8308\n",
            "Test Loss: 0.139537 Correct: 52203, ACC : 0.87005\n",
            "Train Epoch: 1 Loss: 0.020445 Correct: 9041 ACC: 0.9041\n",
            "Test Loss: 0.063491 Correct: 52466, ACC : 0.8744333333333333\n",
            "Train Epoch: 2 Loss: 0.000613 Correct: 9233 ACC: 0.9233\n",
            "Test Loss: 0.003203 Correct: 54674, ACC : 0.9112333333333333\n",
            "Train Epoch: 3 Loss: 0.015189 Correct: 9393 ACC: 0.9393\n",
            "Test Loss: 0.333047 Correct: 53125, ACC : 0.8854166666666666\n",
            "Train Epoch: 4 Loss: 0.000458 Correct: 9458 ACC: 0.9458\n",
            "Test Loss: 0.002684 Correct: 54657, ACC : 0.91095\n",
            "Train Epoch: 5 Loss: 0.000093 Correct: 9522 ACC: 0.9522\n",
            "Test Loss: 0.003016 Correct: 54462, ACC : 0.9077\n",
            "Train Epoch: 6 Loss: 0.027542 Correct: 9592 ACC: 0.9592\n",
            "Test Loss: 0.000103 Correct: 55708, ACC : 0.9284666666666667\n",
            "Train Epoch: 7 Loss: 0.001998 Correct: 9550 ACC: 0.955\n",
            "Test Loss: 0.000862 Correct: 55892, ACC : 0.9315333333333333\n",
            "Train Epoch: 8 Loss: 0.000173 Correct: 9605 ACC: 0.9605\n",
            "Test Loss: 0.003073 Correct: 54951, ACC : 0.91585\n",
            "Train Epoch: 9 Loss: 0.000006 Correct: 9569 ACC: 0.9569\n",
            "Test Loss: 0.011776 Correct: 54219, ACC : 0.90365\n",
            "Train Epoch: 10 Loss: 0.001466 Correct: 9534 ACC: 0.9534\n",
            "Test Loss: 0.001703 Correct: 55781, ACC : 0.9296833333333333\n",
            "Train Epoch: 11 Loss: 0.000185 Correct: 9548 ACC: 0.9548\n",
            "Test Loss: 0.000083 Correct: 55766, ACC : 0.9294333333333333\n",
            "Train Epoch: 12 Loss: 0.000000 Correct: 9612 ACC: 0.9612\n",
            "Test Loss: 0.071013 Correct: 55773, ACC : 0.92955\n",
            "Train Epoch: 13 Loss: 0.000000 Correct: 9646 ACC: 0.9646\n",
            "Test Loss: 0.024733 Correct: 56088, ACC : 0.9348\n",
            "Train Epoch: 14 Loss: 0.000001 Correct: 9617 ACC: 0.9617\n",
            "Test Loss: 0.000026 Correct: 56233, ACC : 0.9372166666666667\n",
            "Train Epoch: 15 Loss: 0.064560 Correct: 9704 ACC: 0.9704\n",
            "Test Loss: 0.000021 Correct: 56733, ACC : 0.94555\n",
            "Train Epoch: 16 Loss: 0.002413 Correct: 9715 ACC: 0.9715\n",
            "Test Loss: 0.000000 Correct: 56659, ACC : 0.9443166666666667\n",
            "Train Epoch: 17 Loss: 0.000130 Correct: 9782 ACC: 0.9782\n",
            "Test Loss: 0.000001 Correct: 56608, ACC : 0.9434666666666667\n",
            "Train Epoch: 18 Loss: 0.000000 Correct: 9734 ACC: 0.9734\n",
            "Test Loss: 0.000001 Correct: 56467, ACC : 0.9411166666666667\n",
            "Train Epoch: 19 Loss: 1.350741 Correct: 9748 ACC: 0.9748\n",
            "Test Loss: 0.000008 Correct: 56373, ACC : 0.93955\n",
            "Train Epoch: 20 Loss: 0.000001 Correct: 9768 ACC: 0.9768\n",
            "Test Loss: 0.000001 Correct: 56462, ACC : 0.9410333333333334\n",
            "Train Epoch: 21 Loss: 0.000000 Correct: 9729 ACC: 0.9729\n",
            "Test Loss: 0.000000 Correct: 55510, ACC : 0.9251666666666667\n",
            "Train Epoch: 22 Loss: 0.000000 Correct: 9623 ACC: 0.9623\n",
            "Test Loss: 0.000915 Correct: 56394, ACC : 0.9399\n",
            "Train Epoch: 23 Loss: 0.000003 Correct: 9638 ACC: 0.9638\n",
            "Test Loss: 0.000000 Correct: 56031, ACC : 0.93385\n",
            "Train Epoch: 24 Loss: 0.000000 Correct: 9649 ACC: 0.9649\n",
            "Test Loss: 0.000000 Correct: 56056, ACC : 0.9342666666666667\n",
            "Train Epoch: 25 Loss: 0.000001 Correct: 9725 ACC: 0.9725\n",
            "Test Loss: 0.000000 Correct: 56510, ACC : 0.9418333333333333\n",
            "Train Epoch: 26 Loss: 0.000000 Correct: 9726 ACC: 0.9726\n",
            "Test Loss: 0.000000 Correct: 56569, ACC : 0.9428166666666666\n",
            "Train Epoch: 27 Loss: 0.023862 Correct: 9660 ACC: 0.966\n",
            "Test Loss: 0.000000 Correct: 55333, ACC : 0.9222166666666667\n",
            "Train Epoch: 28 Loss: 0.045664 Correct: 9637 ACC: 0.9637\n",
            "Test Loss: 0.000004 Correct: 55659, ACC : 0.92765\n",
            "Train Epoch: 29 Loss: 0.000000 Correct: 9657 ACC: 0.9657\n",
            "Test Loss: 0.000000 Correct: 56131, ACC : 0.9355166666666667\n"
          ],
          "name": "stdout"
        }
      ]
    },
    {
      "cell_type": "code",
      "metadata": {
        "colab": {
          "base_uri": "https://localhost:8080/",
          "height": 483
        },
        "id": "uKJtQOjsnQTp",
        "outputId": "68890305-e07b-44b2-8961-3c6dc9c23320"
      },
      "source": [
        "x = np.arange(epoch_num)\n",
        "plt.figure(figsize=(8,8))\n",
        "plt.plot(x, losses)\n",
        "plt.plot(x, test_losses)\n",
        "plt.legend(['train','test'])\n",
        "plt.show()"
      ],
      "execution_count": 40,
      "outputs": [
        {
          "output_type": "display_data",
          "data": {
            "image/png": "[encoded data removed]",
            "text/plain": [
              "<Figure size 576x576 with 1 Axes>"
            ]
          },
          "metadata": {
            "tags": [],
            "needs_background": "light"
          }
        }
      ]
    },
    {
      "cell_type": "code",
      "metadata": {
        "colab": {
          "base_uri": "https://localhost:8080/",
          "height": 483
        },
        "id": "mUanf9aHfM1z",
        "outputId": "e43fab7f-df81-4898-e9b8-dab6e74b5206"
      },
      "source": [
        "x = np.arange(epoch_num)\n",
        "plt.figure(figsize=(8,8))\n",
        "plt.plot(x, accuracies)\n",
        "plt.plot(x, test_accuracies)\n",
        "plt.legend(['train','test'])\n",
        "plt.show()"
      ],
      "execution_count": 41,
      "outputs": [
        {
          "output_type": "display_data",
          "data": {
            "image/png": "[encoded data removed]",
            "text/plain": [
              "<Figure size 576x576 with 1 Axes>"
            ]
          },
          "metadata": {
            "tags": [],
            "needs_background": "light"
          }
        }
      ]
    }
  ]
}