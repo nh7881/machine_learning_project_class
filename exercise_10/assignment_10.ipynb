{
  "nbformat": 4,
  "nbformat_minor": 0,
  "metadata": {
    "colab": {
      "name": "assignment_10.ipynb",
      "provenance": [],
      "collapsed_sections": [],
      "authorship_tag": "ABX9TyMs0BaW/i7WjGfdJcKTw5Zx",
      "include_colab_link": true
    },
    "kernelspec": {
      "name": "python3",
      "display_name": "Python 3"
    }
  },
  "cells": [
    {
      "cell_type": "markdown",
      "metadata": {
        "id": "view-in-github",
        "colab_type": "text"
      },
      "source": [
        "<a href=\"https://colab.research.google.com/github/nh7881/machine_learning_project_class/blob/master/exercise_10/assignment_10.ipynb\" target=\"_parent\"><img src=\"https://colab.research.google.com/assets/colab-badge.svg\" alt=\"Open In Colab\"/></a>"
      ]
    },
    {
      "cell_type": "code",
      "metadata": {
        "id": "eFlnw0njY-Z2"
      },
      "source": [
        "import torch\n",
        "from torch import nn\n",
        "from torchvision import transforms, datasets\n",
        "from matplotlib import pyplot as plt\n",
        "import numpy as np"
      ],
      "execution_count": 138,
      "outputs": []
    },
    {
      "cell_type": "code",
      "metadata": {
        "id": "E4o-wcNbbUcf"
      },
      "source": [
        "transform = transforms.Compose([\n",
        "    transforms.ToTensor(),\n",
        "    transforms.Normalize((0.1307,),(0.3081,)),  # mean value = 0.1307, standard deviation value = 0.3081\n",
        "])"
      ],
      "execution_count": 139,
      "outputs": []
    },
    {
      "cell_type": "code",
      "metadata": {
        "id": "v8AuT_FfbYW7"
      },
      "source": [
        "data_path = './MNIST'\n",
        "minibatch_size=64\n",
        "\n",
        "training_set = datasets.MNIST(root = data_path, train= False, download=True, transform= transform)\n",
        "testing_set = datasets.MNIST(root = data_path, train= True, download=True, transform= transform)\n",
        "training_loader = torch.utils.data.DataLoader(training_set,minibatch_size)\n",
        "testing_loader = torch.utils.data.DataLoader(testing_set,minibatch_size)"
      ],
      "execution_count": 140,
      "outputs": []
    },
    {
      "cell_type": "code",
      "metadata": {
        "colab": {
          "base_uri": "https://localhost:8080/"
        },
        "id": "Ehu9i_-hbvLU",
        "outputId": "a1ada4dd-0418-4b2d-e277-a7673a4721b2"
      },
      "source": [
        "print(training_loader.dataset.data.shape)\n",
        "print(testing_loader.dataset.data.shape)"
      ],
      "execution_count": 141,
      "outputs": [
        {
          "output_type": "stream",
          "text": [
            "torch.Size([10000, 28, 28])\n",
            "torch.Size([60000, 28, 28])\n"
          ],
          "name": "stdout"
        }
      ]
    },
    {
      "cell_type": "code",
      "metadata": {
        "id": "FMZvU1iDbvpD"
      },
      "source": [
        "class classification(nn.Module):\n",
        "    def __init__(self):\n",
        "        super(classification, self).__init__()\n",
        "        \n",
        "        # construct layers for a neural network\n",
        "        self.classifier1 = nn.Sequential(\n",
        "            nn.Linear(in_features=28*28, out_features=20*20),\n",
        "            nn.ReLU(),\n",
        "            nn.Dropout2d(0.2),\n",
        "        ) \n",
        "        self.classifier2 = nn.Sequential(\n",
        "            nn.Linear(in_features=20*20, out_features=10*10),\n",
        "            nn.ReLU(),\n",
        "            nn.Dropout2d(0.2),\n",
        "        ) \n",
        "        self.classifier3 = nn.Sequential(\n",
        "            nn.Linear(in_features=10*10, out_features=10),\n",
        "            nn.LogSoftmax(dim=1),\n",
        "        ) \n",
        "        \n",
        "        \n",
        "    def forward(self, inputs):                 # [batchSize, 1, 28, 28]\n",
        "        x = inputs.view(inputs.size(0), -1)    # [batchSize, 28*28]\n",
        "        x = self.classifier1(x)                # [batchSize, 20*20]\n",
        "        x = self.classifier2(x)                # [batchSize, 10*10]\n",
        "        out = self.classifier3(x)              # [batchSize, 10]\n",
        "        \n",
        "        return out\n"
      ],
      "execution_count": 142,
      "outputs": []
    },
    {
      "cell_type": "code",
      "metadata": {
        "id": "ppBNwEV6cpE6"
      },
      "source": [
        "criterion = nn.NLLLoss()"
      ],
      "execution_count": 143,
      "outputs": []
    },
    {
      "cell_type": "code",
      "metadata": {
        "id": "DChy4rNcczBe"
      },
      "source": [
        "learning_rate_value = 0.01\n",
        "device = torch.device(\"cuda:0\" if torch.cuda.is_available() else \"cpu\")\n",
        "classifier = classification().to(device)\n",
        "optimizer = torch.optim.SGD(classifier.parameters(), lr=learning_rate_value, momentum=0.9)"
      ],
      "execution_count": 144,
      "outputs": []
    },
    {
      "cell_type": "code",
      "metadata": {
        "id": "JxbWrFsBc0hk"
      },
      "source": [
        "test_losses = []\n",
        "test_accuracies = []\n",
        "def test() :\n",
        "    classifier.eval()\n",
        "    correct = 0\n",
        "    n = 0\n",
        "    with torch.no_grad():\n",
        "        for batch_idx, (data, target) in enumerate(testing_loader):\n",
        "            data, target = data.to(device), target.to(device)\n",
        "            output = classifier(data)\n",
        "            loss = criterion(output, target)\n",
        "            pred = output.argmax(dim=1, keepdim=True)\n",
        "            correct += pred.eq(target.view_as(pred)).sum().item()\n",
        "            n += len(data)\n",
        "        print('Test Loss: {:.6f} Correct: {}, ACC : {}'.format(\n",
        "            loss.item(), correct, correct/n))\n",
        "        test_losses.append(loss.item())\n",
        "        test_accuracies.append(correct/n)"
      ],
      "execution_count": 145,
      "outputs": []
    },
    {
      "cell_type": "code",
      "metadata": {
        "colab": {
          "base_uri": "https://localhost:8080/"
        },
        "id": "uPx5vcFsdKQ8",
        "outputId": "47ce2f58-b091-4f64-c89e-cc08af2de026"
      },
      "source": [
        "epoch_num = 50\n",
        "losses = []\n",
        "accuracies = []\n",
        "for epoch in range(epoch_num) :\n",
        "    correct = 0\n",
        "    n = 0\n",
        "    classifier.train()\n",
        "    for batch_idx, (data, target) in enumerate(training_loader):\n",
        "        data, target = data.to(device), target.to(device)\n",
        "        optimizer.zero_grad()\n",
        "        output = classifier(data)\n",
        "        loss = criterion(output, target)\n",
        "        loss.backward()\n",
        "        optimizer.step()\n",
        "        pred = output.argmax(dim=1, keepdim=True)\n",
        "        correct += pred.eq(target.view_as(pred)).sum().item()\n",
        "        n += len(data)\n",
        "    print('Train Epoch: {} Loss: {:.6f} Correct: {} ACC: {}'.format(\n",
        "        epoch, loss.item(), correct, correct/n))\n",
        "    test()\n",
        "    losses.append(loss.item())\n",
        "    accuracies.append(correct/n)\n",
        "    #train  test    batch_size  loss    activ\n",
        "    #94.7,  91.95   16          ce      sigmoid\n",
        "    #?      93.7    64          ce      sigmoid\n",
        "    #97     92.8    64          nll     sigmoid\n",
        "    #100    94.9    16          nll     sigmoid\n",
        "    #100    95.5    64          nll     relu\n",
        "    #99.9   95.9    64          nll     relu    dropout추가\n",
        "    #99.9   95.9    8           nll     relu    dropout추가 <- 튐\n",
        "    #99.9   95.9    16          nll     relu    dropout추가 lr 줄임\n",
        "    #batch 변경"
      ],
      "execution_count": 146,
      "outputs": [
        {
          "output_type": "stream",
          "text": [
            "Train Epoch: 0 Loss: 0.196666 Correct: 7435 ACC: 0.7435\n",
            "Test Loss: 0.189580 Correct: 51591, ACC : 0.85985\n",
            "Train Epoch: 1 Loss: 0.128006 Correct: 8968 ACC: 0.8968\n",
            "Test Loss: 0.099435 Correct: 54256, ACC : 0.9042666666666667\n",
            "Train Epoch: 2 Loss: 0.112608 Correct: 9233 ACC: 0.9233\n",
            "Test Loss: 0.049341 Correct: 55484, ACC : 0.9247333333333333\n",
            "Train Epoch: 3 Loss: 0.060368 Correct: 9437 ACC: 0.9437\n",
            "Test Loss: 0.039322 Correct: 56034, ACC : 0.9339\n",
            "Train Epoch: 4 Loss: 0.017760 Correct: 9545 ACC: 0.9545\n",
            "Test Loss: 0.016592 Correct: 56257, ACC : 0.9376166666666667\n",
            "Train Epoch: 5 Loss: 0.019316 Correct: 9663 ACC: 0.9663\n",
            "Test Loss: 0.016256 Correct: 56638, ACC : 0.9439666666666666\n",
            "Train Epoch: 6 Loss: 0.006803 Correct: 9713 ACC: 0.9713\n",
            "Test Loss: 0.015571 Correct: 56766, ACC : 0.9461\n",
            "Train Epoch: 7 Loss: 0.005259 Correct: 9790 ACC: 0.979\n",
            "Test Loss: 0.008907 Correct: 57005, ACC : 0.9500833333333333\n",
            "Train Epoch: 8 Loss: 0.006600 Correct: 9817 ACC: 0.9817\n",
            "Test Loss: 0.009123 Correct: 57073, ACC : 0.9512166666666667\n",
            "Train Epoch: 9 Loss: 0.003735 Correct: 9848 ACC: 0.9848\n",
            "Test Loss: 0.009451 Correct: 56958, ACC : 0.9493\n",
            "Train Epoch: 10 Loss: 0.001077 Correct: 9871 ACC: 0.9871\n",
            "Test Loss: 0.003953 Correct: 57065, ACC : 0.9510833333333333\n",
            "Train Epoch: 11 Loss: 0.001854 Correct: 9891 ACC: 0.9891\n",
            "Test Loss: 0.003617 Correct: 56999, ACC : 0.9499833333333333\n",
            "Train Epoch: 12 Loss: 0.004274 Correct: 9919 ACC: 0.9919\n",
            "Test Loss: 0.002527 Correct: 57192, ACC : 0.9532\n",
            "Train Epoch: 13 Loss: 0.000879 Correct: 9928 ACC: 0.9928\n",
            "Test Loss: 0.002538 Correct: 57197, ACC : 0.9532833333333334\n",
            "Train Epoch: 14 Loss: 0.000377 Correct: 9928 ACC: 0.9928\n",
            "Test Loss: 0.005166 Correct: 57323, ACC : 0.9553833333333334\n",
            "Train Epoch: 15 Loss: 0.004753 Correct: 9940 ACC: 0.994\n",
            "Test Loss: 0.005321 Correct: 57359, ACC : 0.9559833333333333\n",
            "Train Epoch: 16 Loss: 0.001048 Correct: 9957 ACC: 0.9957\n",
            "Test Loss: 0.001822 Correct: 57341, ACC : 0.9556833333333333\n",
            "Train Epoch: 17 Loss: 0.000185 Correct: 9949 ACC: 0.9949\n",
            "Test Loss: 0.003196 Correct: 57402, ACC : 0.9567\n",
            "Train Epoch: 18 Loss: 0.000211 Correct: 9965 ACC: 0.9965\n",
            "Test Loss: 0.004553 Correct: 57445, ACC : 0.9574166666666667\n",
            "Train Epoch: 19 Loss: 0.000229 Correct: 9973 ACC: 0.9973\n",
            "Test Loss: 0.002992 Correct: 57482, ACC : 0.9580333333333333\n",
            "Train Epoch: 20 Loss: 0.002118 Correct: 9983 ACC: 0.9983\n",
            "Test Loss: 0.002673 Correct: 57405, ACC : 0.95675\n",
            "Train Epoch: 21 Loss: 0.000116 Correct: 9975 ACC: 0.9975\n",
            "Test Loss: 0.004706 Correct: 57493, ACC : 0.9582166666666667\n",
            "Train Epoch: 22 Loss: 0.000215 Correct: 9973 ACC: 0.9973\n",
            "Test Loss: 0.001605 Correct: 57519, ACC : 0.95865\n",
            "Train Epoch: 23 Loss: 0.000051 Correct: 9978 ACC: 0.9978\n",
            "Test Loss: 0.003528 Correct: 57483, ACC : 0.95805\n",
            "Train Epoch: 24 Loss: 0.000125 Correct: 9973 ACC: 0.9973\n",
            "Test Loss: 0.003536 Correct: 57534, ACC : 0.9589\n",
            "Train Epoch: 25 Loss: 0.001364 Correct: 9982 ACC: 0.9982\n",
            "Test Loss: 0.005586 Correct: 57559, ACC : 0.9593166666666667\n",
            "Train Epoch: 26 Loss: 0.000043 Correct: 9984 ACC: 0.9984\n",
            "Test Loss: 0.006127 Correct: 57507, ACC : 0.95845\n",
            "Train Epoch: 27 Loss: 0.000949 Correct: 9982 ACC: 0.9982\n",
            "Test Loss: 0.001341 Correct: 57423, ACC : 0.95705\n",
            "Train Epoch: 28 Loss: 0.000437 Correct: 9984 ACC: 0.9984\n",
            "Test Loss: 0.001178 Correct: 57502, ACC : 0.9583666666666667\n",
            "Train Epoch: 29 Loss: 0.000295 Correct: 9988 ACC: 0.9988\n",
            "Test Loss: 0.001918 Correct: 57530, ACC : 0.9588333333333333\n",
            "Train Epoch: 30 Loss: 0.000040 Correct: 9987 ACC: 0.9987\n",
            "Test Loss: 0.002620 Correct: 57548, ACC : 0.9591333333333333\n",
            "Train Epoch: 31 Loss: 0.000345 Correct: 9981 ACC: 0.9981\n",
            "Test Loss: 0.003156 Correct: 57572, ACC : 0.9595333333333333\n",
            "Train Epoch: 32 Loss: 0.000249 Correct: 9992 ACC: 0.9992\n",
            "Test Loss: 0.003733 Correct: 57558, ACC : 0.9593\n",
            "Train Epoch: 33 Loss: 0.000223 Correct: 9991 ACC: 0.9991\n",
            "Test Loss: 0.002026 Correct: 57578, ACC : 0.9596333333333333\n",
            "Train Epoch: 34 Loss: 0.001111 Correct: 9987 ACC: 0.9987\n",
            "Test Loss: 0.004627 Correct: 57613, ACC : 0.9602166666666667\n",
            "Train Epoch: 35 Loss: 0.000035 Correct: 9983 ACC: 0.9983\n",
            "Test Loss: 0.006001 Correct: 57625, ACC : 0.9604166666666667\n",
            "Train Epoch: 36 Loss: 0.000111 Correct: 9989 ACC: 0.9989\n",
            "Test Loss: 0.001937 Correct: 57579, ACC : 0.95965\n",
            "Train Epoch: 37 Loss: 0.009072 Correct: 9995 ACC: 0.9995\n",
            "Test Loss: 0.000985 Correct: 57610, ACC : 0.9601666666666666\n",
            "Train Epoch: 38 Loss: 0.000190 Correct: 9992 ACC: 0.9992\n",
            "Test Loss: 0.000582 Correct: 57580, ACC : 0.9596666666666667\n",
            "Train Epoch: 39 Loss: 0.000099 Correct: 9995 ACC: 0.9995\n",
            "Test Loss: 0.000760 Correct: 57564, ACC : 0.9594\n",
            "Train Epoch: 40 Loss: 0.000093 Correct: 9992 ACC: 0.9992\n",
            "Test Loss: 0.000937 Correct: 57608, ACC : 0.9601333333333333\n",
            "Train Epoch: 41 Loss: 0.000102 Correct: 9995 ACC: 0.9995\n",
            "Test Loss: 0.000905 Correct: 57674, ACC : 0.9612333333333334\n",
            "Train Epoch: 42 Loss: 0.000020 Correct: 9992 ACC: 0.9992\n",
            "Test Loss: 0.002841 Correct: 57632, ACC : 0.9605333333333334\n",
            "Train Epoch: 43 Loss: 0.000127 Correct: 9995 ACC: 0.9995\n",
            "Test Loss: 0.000803 Correct: 57635, ACC : 0.9605833333333333\n",
            "Train Epoch: 44 Loss: 0.000543 Correct: 9993 ACC: 0.9993\n",
            "Test Loss: 0.000549 Correct: 57630, ACC : 0.9605\n",
            "Train Epoch: 45 Loss: 0.000040 Correct: 9993 ACC: 0.9993\n",
            "Test Loss: 0.001727 Correct: 57675, ACC : 0.96125\n",
            "Train Epoch: 46 Loss: 0.000120 Correct: 9992 ACC: 0.9992\n",
            "Test Loss: 0.001019 Correct: 57673, ACC : 0.9612166666666667\n",
            "Train Epoch: 47 Loss: 0.003474 Correct: 9994 ACC: 0.9994\n",
            "Test Loss: 0.001927 Correct: 57658, ACC : 0.9609666666666666\n",
            "Train Epoch: 48 Loss: 0.000026 Correct: 9995 ACC: 0.9995\n",
            "Test Loss: 0.003228 Correct: 57653, ACC : 0.9608833333333333\n",
            "Train Epoch: 49 Loss: 0.000480 Correct: 9994 ACC: 0.9994\n",
            "Test Loss: 0.003900 Correct: 57645, ACC : 0.96075\n"
          ],
          "name": "stdout"
        }
      ]
    },
    {
      "cell_type": "code",
      "metadata": {
        "colab": {
          "base_uri": "https://localhost:8080/",
          "height": 483
        },
        "id": "3zc-Wevb9px3",
        "outputId": "9a79b0bf-56a3-4f70-dfa2-23664e3feb87"
      },
      "source": [
        "x = np.arange(epoch_num)\n",
        "plt.figure(figsize=(8,8))\n",
        "plt.plot(x, losses)\n",
        "plt.plot(x, test_losses)\n",
        "plt.legend(['train','test'])\n",
        "plt.show()"
      ],
      "execution_count": 147,
      "outputs": [
        {
          "output_type": "display_data",
          "data": {
            "image/png": "[encoded data removed]",
            "text/plain": [
              "<Figure size 576x576 with 1 Axes>"
            ]
          },
          "metadata": {
            "tags": [],
            "needs_background": "light"
          }
        }
      ]
    },
    {
      "cell_type": "code",
      "metadata": {
        "colab": {
          "base_uri": "https://localhost:8080/",
          "height": 483
        },
        "id": "Na9Ncpit9rGq",
        "outputId": "e4432734-f109-481a-93a1-34ea2a7003f4"
      },
      "source": [
        "x = np.arange(epoch_num)\n",
        "plt.figure(figsize=(8,8))\n",
        "plt.plot(x, accuracies)\n",
        "plt.plot(x, test_accuracies)\n",
        "plt.legend(['train','test'])\n",
        "plt.show()"
      ],
      "execution_count": 148,
      "outputs": [
        {
          "output_type": "display_data",
          "data": {
            "image/png": "[encoded data removed]",
            "text/plain": [
              "<Figure size 576x576 with 1 Axes>"
            ]
          },
          "metadata": {
            "tags": [],
            "needs_background": "light"
          }
        }
      ]
    }
  ]
}